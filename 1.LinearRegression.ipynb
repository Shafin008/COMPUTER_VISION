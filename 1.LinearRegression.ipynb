{
 "cells": [
  {
   "cell_type": "markdown",
   "id": "54a3aac8-a59c-472d-b731-439acad9968a",
   "metadata": {},
   "source": [
    "## Linear Regression"
   ]
  },
  {
   "cell_type": "code",
   "execution_count": 1,
   "id": "a077652b-0dc9-4ae0-a06f-84ff63b804ad",
   "metadata": {},
   "outputs": [],
   "source": [
    "import torch"
   ]
  },
  {
   "cell_type": "markdown",
   "id": "e064410a-a0d7-4984-b235-12e247a8cdcf",
   "metadata": {},
   "source": [
    "### Data"
   ]
  },
  {
   "cell_type": "code",
   "execution_count": 2,
   "id": "06533001-bdde-4245-a3d7-e27cf7063382",
   "metadata": {},
   "outputs": [
    {
     "data": {
      "text/plain": [
       "(torch.Size([100, 5]), torch.float32)"
      ]
     },
     "execution_count": 2,
     "metadata": {},
     "output_type": "execute_result"
    }
   ],
   "source": [
    "inputs = torch.randn(100, 5) * 100\n",
    "inputs.shape, inputs.dtype"
   ]
  },
  {
   "cell_type": "code",
   "execution_count": 3,
   "id": "2788ff91-d001-4e18-8d4f-c201d09e064e",
   "metadata": {},
   "outputs": [
    {
     "data": {
      "text/plain": [
       "(torch.Size([100, 2]), torch.float32)"
      ]
     },
     "execution_count": 3,
     "metadata": {},
     "output_type": "execute_result"
    }
   ],
   "source": [
    "targets = torch.randn(100, 2)\n",
    "targets.shape, targets.dtype"
   ]
  },
  {
   "cell_type": "markdown",
   "id": "7bb847df-94c9-421f-b9d2-e72d0215b366",
   "metadata": {},
   "source": [
    "### TensorData and DataLoader"
   ]
  },
  {
   "cell_type": "code",
   "execution_count": 4,
   "id": "df021fd4-8e05-4e83-8a3d-cce700c339d3",
   "metadata": {},
   "outputs": [
    {
     "data": {
      "text/plain": [
       "100"
      ]
     },
     "execution_count": 4,
     "metadata": {},
     "output_type": "execute_result"
    }
   ],
   "source": [
    "len(inputs)"
   ]
  },
  {
   "cell_type": "code",
   "execution_count": 5,
   "id": "9b849011-476a-4b42-92f4-793e61e7ef8e",
   "metadata": {},
   "outputs": [
    {
     "data": {
      "text/plain": [
       "(80, 80, 20, 20)"
      ]
     },
     "execution_count": 5,
     "metadata": {},
     "output_type": "execute_result"
    }
   ],
   "source": [
    "## Split the data\n",
    "train_split = int(0.8 * len(inputs))\n",
    "x_train, y_train = inputs[:train_split] , targets[:train_split]\n",
    "x_test, y_test = inputs[train_split:], targets[train_split:]\n",
    "len(x_train), len(y_train), len(x_test), len(y_test)"
   ]
  },
  {
   "cell_type": "code",
   "execution_count": 6,
   "id": "8bfae3cf-0569-4021-979f-2f62cf2643e5",
   "metadata": {},
   "outputs": [],
   "source": [
    "from torch.utils.data import TensorDataset\n",
    "from torch.utils.data import DataLoader"
   ]
  },
  {
   "cell_type": "code",
   "execution_count": 7,
   "id": "c03aa1c7-9e71-4153-80e6-766df0bd32ee",
   "metadata": {
    "tags": []
   },
   "outputs": [
    {
     "data": {
      "text/plain": [
       "(tensor([[ -61.9247, -217.9672,  -99.8743,   68.6880,  -27.3298],\n",
       "         [ -22.7840,   39.2534,  -11.2673, -239.0415,   -9.8957],\n",
       "         [ -19.6231,  159.6029,  190.8993,  -89.2801,   98.7905],\n",
       "         [  25.9496,  -40.8997,  -70.9564,   97.0495,  157.5534],\n",
       "         [-104.4455,  129.8809, -107.1379,  116.0827, -104.7168],\n",
       "         [-226.8839,  209.4116,   60.4764,  -97.5280, -111.9404],\n",
       "         [ -17.0802,   71.4301, -225.5742,  -55.6949,    3.6870],\n",
       "         [ 204.9335,  -34.3126,   11.2027,   59.8019,  -23.9035],\n",
       "         [-122.6410,   20.1915,  110.4470, -100.9447, -111.2147],\n",
       "         [ 186.6520, -172.8651,   11.8179, -137.2512,  -22.2099]]),\n",
       " tensor([[ 1.5106, -0.8462],\n",
       "         [-2.4603, -0.6741],\n",
       "         [ 0.1449,  0.3987],\n",
       "         [-1.1618,  0.8114],\n",
       "         [ 0.2542,  1.3837],\n",
       "         [ 1.2673,  0.3409],\n",
       "         [ 0.8272, -1.0949],\n",
       "         [ 0.4181, -0.7191],\n",
       "         [ 1.6765,  0.8477],\n",
       "         [ 0.5923,  0.0862]]))"
      ]
     },
     "execution_count": 7,
     "metadata": {},
     "output_type": "execute_result"
    }
   ],
   "source": [
    "## creating datasets\n",
    "train_ds = TensorDataset(x_train, y_train)\n",
    "train_ds[:10]"
   ]
  },
  {
   "cell_type": "code",
   "execution_count": 8,
   "id": "a24e88d6-4fb5-482f-b2bb-f08710fd54dd",
   "metadata": {
    "tags": []
   },
   "outputs": [
    {
     "data": {
      "text/plain": [
       "(tensor([[ 114.3698,  -38.8887,  163.9570,  -86.7311,  -99.5038],\n",
       "         [ -22.8214,  143.3197,  -14.8847,  101.4488,  116.3242],\n",
       "         [  69.1453,  -10.7741, -165.3071,   82.0632, -119.7398],\n",
       "         [  53.5655,   59.5061,  -24.6139,  -52.0186, -104.1631],\n",
       "         [ -26.1001,   21.8371,  -30.0379,   -5.9263,   34.5876],\n",
       "         [  40.6518,  -31.8352,   47.2054, -110.1175,   79.4285],\n",
       "         [ -73.5309,  -34.1037,  -93.7125,   55.7309,   -5.6032],\n",
       "         [  34.8867, -151.4880,  -48.7485, -106.2224,  -48.4488],\n",
       "         [ -69.6134,   65.3084,  126.6840, -122.3938,   14.2049],\n",
       "         [  89.5789, -161.9427,  134.5097,  -55.9250,  -35.6337]]),\n",
       " tensor([[-0.4264, -1.0198],\n",
       "         [-1.5959, -0.5971],\n",
       "         [ 0.0042, -1.5124],\n",
       "         [-0.0669,  0.5582],\n",
       "         [-0.9992, -0.9706],\n",
       "         [-1.0143,  0.6370],\n",
       "         [ 0.5518, -0.1723],\n",
       "         [ 0.9755,  0.1754],\n",
       "         [-0.2910,  0.1925],\n",
       "         [ 0.9081,  0.8366]]))"
      ]
     },
     "execution_count": 8,
     "metadata": {},
     "output_type": "execute_result"
    }
   ],
   "source": [
    "test_ds = TensorDataset(x_test, y_test)\n",
    "test_ds[:10]"
   ]
  },
  {
   "cell_type": "code",
   "execution_count": 9,
   "id": "c896c653-5d7a-4ca3-afae-271712930002",
   "metadata": {},
   "outputs": [],
   "source": [
    "## creating dataloaders\n",
    "train_dl = DataLoader(dataset=train_ds, batch_size = 25, shuffle = True)\n",
    "test_dl = DataLoader(test_ds, batch_size = 10)"
   ]
  },
  {
   "cell_type": "code",
   "execution_count": 10,
   "id": "5fac7c8c-af4d-4a7c-ba0d-3b163c1d01f5",
   "metadata": {
    "tags": []
   },
   "outputs": [
    {
     "name": "stdout",
     "output_type": "stream",
     "text": [
      "tensor([[  90.0058,  -22.8771,  153.5106,  -84.0114, -104.2671],\n",
      "        [-107.0082,  -14.3395,   39.7977,   91.1041, -160.5598],\n",
      "        [ -22.7840,   39.2534,  -11.2673, -239.0415,   -9.8957],\n",
      "        [-240.4731,   26.2189,   70.5577,  -89.7222,  160.6113],\n",
      "        [  85.0220,  116.3102, -181.0304,   48.2659,   95.1644],\n",
      "        [-241.7094,   56.9646,  118.0509,   87.4522,   79.0630],\n",
      "        [   6.3418,  -30.9101,  -47.0893,   75.7593, -199.1144],\n",
      "        [ -10.6650, -120.2351,  101.1495,  210.4042,   73.9466],\n",
      "        [ 162.4057,  -29.2748,  -92.4220, -163.0853, -108.8403],\n",
      "        [  25.9496,  -40.8997,  -70.9564,   97.0495,  157.5534],\n",
      "        [ -73.5393,  146.0105,  -16.6582,  -60.3108,   34.5006],\n",
      "        [ -17.0802,   71.4301, -225.5742,  -55.6949,    3.6870],\n",
      "        [-109.1400,  -67.7315,  -26.7585,  129.0772,  -50.3273],\n",
      "        [-128.2383,   96.8689,  -15.9644,   73.1439, -157.4208],\n",
      "        [  -0.5540,  109.4940,  155.6124,  -84.8746, -160.6047],\n",
      "        [  52.9922,   -3.6090,  -96.6076,  206.4900,  -84.9534],\n",
      "        [-103.0691,   18.1104,  -87.6584,  -20.5178,  -22.8384],\n",
      "        [ -24.4407, -226.7375,  -81.1151,   43.4768, -113.2675],\n",
      "        [-135.7850, -173.1151, -234.5025,  -11.4489,   13.4100],\n",
      "        [  98.3762,  -50.3421,   12.2872,  -80.5688,  -23.5036],\n",
      "        [ -61.9247, -217.9672,  -99.8743,   68.6880,  -27.3298],\n",
      "        [-226.8839,  209.4116,   60.4764,  -97.5280, -111.9404],\n",
      "        [-111.7495,   73.2875,   23.6774,   12.3542,  -12.3056],\n",
      "        [ -71.4470, -130.0219,   -8.9131,    0.3160,  -64.0873],\n",
      "        [  57.3110,  133.1054,   71.8831,   71.8881,  -18.9911]])\n",
      "tensor([[ 1.6491,  0.0243],\n",
      "        [-1.8711, -0.1437],\n",
      "        [-2.4603, -0.6741],\n",
      "        [ 0.8908, -0.1327],\n",
      "        [ 0.3768,  0.8274],\n",
      "        [ 0.3329, -0.5976],\n",
      "        [ 1.1179,  0.2252],\n",
      "        [ 0.6742,  1.5484],\n",
      "        [-0.8626, -1.2774],\n",
      "        [-1.1618,  0.8114],\n",
      "        [ 1.0692, -1.3224],\n",
      "        [ 0.8272, -1.0949],\n",
      "        [ 1.1778, -0.9051],\n",
      "        [-0.2814, -1.6932],\n",
      "        [ 0.0345,  1.2593],\n",
      "        [-0.4169,  0.6024],\n",
      "        [ 0.3824, -1.2873],\n",
      "        [ 1.6830, -0.1293],\n",
      "        [-0.1979,  0.5246],\n",
      "        [ 0.0205, -0.3776],\n",
      "        [ 1.5106, -0.8462],\n",
      "        [ 1.2673,  0.3409],\n",
      "        [-1.5023,  1.2199],\n",
      "        [-0.4069,  0.4630],\n",
      "        [ 0.4157,  0.5211]])\n"
     ]
    }
   ],
   "source": [
    "for xb, yb in train_dl:\n",
    "    print(xb)\n",
    "    print(yb)\n",
    "    break"
   ]
  },
  {
   "cell_type": "code",
   "execution_count": 11,
   "id": "b74b31eb-22bb-4dd1-b6cf-b8b634c721ec",
   "metadata": {
    "tags": []
   },
   "outputs": [
    {
     "name": "stdout",
     "output_type": "stream",
     "text": [
      "tensor([[ 114.3698,  -38.8887,  163.9570,  -86.7311,  -99.5038],\n",
      "        [ -22.8214,  143.3197,  -14.8847,  101.4488,  116.3242],\n",
      "        [  69.1453,  -10.7741, -165.3071,   82.0632, -119.7398],\n",
      "        [  53.5655,   59.5061,  -24.6139,  -52.0186, -104.1631],\n",
      "        [ -26.1001,   21.8371,  -30.0379,   -5.9263,   34.5876],\n",
      "        [  40.6518,  -31.8352,   47.2054, -110.1175,   79.4285],\n",
      "        [ -73.5309,  -34.1037,  -93.7125,   55.7309,   -5.6032],\n",
      "        [  34.8867, -151.4880,  -48.7485, -106.2224,  -48.4488],\n",
      "        [ -69.6134,   65.3084,  126.6840, -122.3938,   14.2049],\n",
      "        [  89.5789, -161.9427,  134.5097,  -55.9250,  -35.6337]])\n",
      "tensor([[-0.4264, -1.0198],\n",
      "        [-1.5959, -0.5971],\n",
      "        [ 0.0042, -1.5124],\n",
      "        [-0.0669,  0.5582],\n",
      "        [-0.9992, -0.9706],\n",
      "        [-1.0143,  0.6370],\n",
      "        [ 0.5518, -0.1723],\n",
      "        [ 0.9755,  0.1754],\n",
      "        [-0.2910,  0.1925],\n",
      "        [ 0.9081,  0.8366]])\n"
     ]
    }
   ],
   "source": [
    "for xb, yb in test_dl:\n",
    "    print(xb)\n",
    "    print(yb)\n",
    "    break"
   ]
  },
  {
   "cell_type": "markdown",
   "id": "042fa96b-ff3d-4648-ba1c-f12f161533d5",
   "metadata": {},
   "source": [
    "### Creating The model"
   ]
  },
  {
   "cell_type": "code",
   "execution_count": 12,
   "id": "0703770a-f94e-4d67-9dbe-4c1bc081f341",
   "metadata": {},
   "outputs": [],
   "source": [
    "import torch.nn as nn"
   ]
  },
  {
   "cell_type": "code",
   "execution_count": 13,
   "id": "70b01aa9-5546-462a-a330-9781f4c8a607",
   "metadata": {},
   "outputs": [],
   "source": [
    "class LinearRegressionModel(nn.Module):\n",
    "    def __init__(self):\n",
    "        super().__init__()\n",
    "        self.Linear = nn.Linear(in_features=5, out_features=2)\n",
    "        \n",
    "    def forward(self, x):\n",
    "        return self.Linear(x)"
   ]
  },
  {
   "cell_type": "code",
   "execution_count": 14,
   "id": "8e87f0f2-49a8-4970-b810-9ab9a694f219",
   "metadata": {},
   "outputs": [
    {
     "data": {
      "text/plain": [
       "OrderedDict([('Linear.weight',\n",
       "              tensor([[-0.4318,  0.3196,  0.3114,  0.3942, -0.0207],\n",
       "                      [-0.4429, -0.1625,  0.2142,  0.1243, -0.1866]])),\n",
       "             ('Linear.bias', tensor([0.2775, 0.3245]))])"
      ]
     },
     "execution_count": 14,
     "metadata": {},
     "output_type": "execute_result"
    }
   ],
   "source": [
    "model_0 = LinearRegressionModel()\n",
    "model_0.state_dict()"
   ]
  },
  {
   "cell_type": "code",
   "execution_count": 15,
   "id": "2265a966-1f25-4973-b391-4e951566f999",
   "metadata": {},
   "outputs": [
    {
     "data": {
      "text/plain": [
       "(Parameter containing:\n",
       " tensor([[-0.4318,  0.3196,  0.3114,  0.3942, -0.0207],\n",
       "         [-0.4429, -0.1625,  0.2142,  0.1243, -0.1866]], requires_grad=True),\n",
       " Parameter containing:\n",
       " tensor([0.2775, 0.3245], requires_grad=True))"
      ]
     },
     "execution_count": 15,
     "metadata": {},
     "output_type": "execute_result"
    }
   ],
   "source": [
    "initial_weight = list(model_0.parameters())[0]\n",
    "initial_bias = list(model_0.parameters())[1]\n",
    "initial_weight, initial_bias"
   ]
  },
  {
   "cell_type": "markdown",
   "id": "95baabe6-a5cb-4ab7-92d0-d80272da46db",
   "metadata": {
    "tags": []
   },
   "source": [
    "### Loss fn and optimizer"
   ]
  },
  {
   "cell_type": "code",
   "execution_count": 19,
   "id": "0981b6b5-441f-4678-9ea2-61215f674e27",
   "metadata": {},
   "outputs": [],
   "source": [
    "loss_fn = nn.MSELoss()\n",
    "optimizer = torch.optim.SGD(model_0.parameters(), lr = 0.000001)"
   ]
  },
  {
   "cell_type": "markdown",
   "id": "8ad38f77-ea56-42a3-9ac4-9fbf64295d14",
   "metadata": {},
   "source": [
    "### Training"
   ]
  },
  {
   "cell_type": "code",
   "execution_count": 20,
   "id": "49327820-8ad6-41cb-aa2c-f41386879de9",
   "metadata": {},
   "outputs": [],
   "source": [
    "def fit(num_epochs, train_dl, test_dl, model, loss_fn, optimizer = torch.optim.SGD):\n",
    "    train_loss_values = []\n",
    "    test_loss_values = []\n",
    "    epoch_count = []\n",
    "    history = {}\n",
    "\n",
    "    for epoch in range(num_epochs):\n",
    "        ## Trainset\n",
    "        for xb, yb in train_dl:\n",
    "            model.train()\n",
    "            train_pred = model(xb)\n",
    "            train_loss = loss_fn(train_pred, yb)\n",
    "            optimizer.zero_grad()\n",
    "            train_loss.backward()\n",
    "            optimizer.step()\n",
    "\n",
    "        ## Test set\n",
    "        model.eval()\n",
    "        with torch.no_grad():\n",
    "            for xt, yt in test_dl:\n",
    "                test_pred = model(xt)\n",
    "                test_loss = loss_fn(test_pred, yt)\n",
    "            if (epoch+1) % 10 == 0:\n",
    "                    epoch_count.append(epoch)\n",
    "                    train_loss_values.append(train_loss.detach().numpy())\n",
    "                    test_loss_values.append(test_loss.detach().numpy())\n",
    "                    history['train_loss'] = train_loss_values\n",
    "                    history['test_loss'] = test_loss_values\n",
    "                    history['epochs'] = epoch_count\n",
    "                    print(f\"Epoch: {epoch+1} | Train Loss: {train_loss} | Test Loss: {test_loss} \")\n",
    "    return history"
   ]
  },
  {
   "cell_type": "code",
   "execution_count": 21,
   "id": "108786ad-bd93-4b2c-b89e-2627566c2641",
   "metadata": {},
   "outputs": [
    {
     "name": "stdout",
     "output_type": "stream",
     "text": [
      "Epoch: 10 | Train Loss: 2472.85302734375 | Test Loss: 2686.40673828125 \n",
      "Epoch: 20 | Train Loss: 385.00653076171875 | Test Loss: 1108.2059326171875 \n",
      "Epoch: 30 | Train Loss: 343.41204833984375 | Test Loss: 442.58697509765625 \n",
      "Epoch: 40 | Train Loss: 182.35812377929688 | Test Loss: 195.7841033935547 \n",
      "Epoch: 50 | Train Loss: 57.03345489501953 | Test Loss: 84.41715240478516 \n",
      "Epoch: 60 | Train Loss: 25.533239364624023 | Test Loss: 40.63370895385742 \n",
      "Epoch: 70 | Train Loss: 15.748547554016113 | Test Loss: 21.175716400146484 \n",
      "Epoch: 80 | Train Loss: 11.33708667755127 | Test Loss: 11.544022560119629 \n",
      "Epoch: 90 | Train Loss: 2.613964557647705 | Test Loss: 6.760394096374512 \n",
      "Epoch: 100 | Train Loss: 4.320398807525635 | Test Loss: 4.276523590087891 \n"
     ]
    }
   ],
   "source": [
    "history = fit(100, train_dl, test_dl, model_0, loss_fn, optimizer)"
   ]
  },
  {
   "cell_type": "code",
   "execution_count": 22,
   "id": "fd2aeb57-de16-48a8-b75b-0dd73d86c77f",
   "metadata": {},
   "outputs": [],
   "source": [
    "import matplotlib.pyplot as plt"
   ]
  },
  {
   "cell_type": "code",
   "execution_count": 23,
   "id": "18992648-fc9c-4039-9589-694592983f59",
   "metadata": {},
   "outputs": [
    {
     "data": {
      "image/png": "[encoded data removed]",
      "text/plain": [
       "<Figure size 432x288 with 1 Axes>"
      ]
     },
     "metadata": {
      "needs_background": "light"
     },
     "output_type": "display_data"
    }
   ],
   "source": [
    "# Plot the loss curves\n",
    "plt.plot(history['epochs'], history['train_loss'], label=\"Train loss\")\n",
    "plt.plot(history['epochs'], history['test_loss'], label=\"Test loss\")\n",
    "plt.title(\"Training and test loss curves\")\n",
    "plt.ylabel(\"Loss\")\n",
    "plt.xlabel(\"Epochs\")\n",
    "plt.legend();"
   ]
  },
  {
   "cell_type": "code",
   "execution_count": null,
   "id": "94bfdcb5-ccc2-45de-9889-16f99fd2ff96",
   "metadata": {},
   "outputs": [],
   "source": []
  },
  {
   "cell_type": "code",
   "execution_count": null,
   "id": "871b1184-67c7-4c17-88b1-d0ebbf739fd1",
   "metadata": {},
   "outputs": [],
   "source": []
  },
  {
   "cell_type": "code",
   "execution_count": null,
   "id": "993dd177-fe34-4f2a-b6ee-6b1c52429f5a",
   "metadata": {},
   "outputs": [],
   "source": []
  }
 ],
 "metadata": {
  "kernelspec": {
   "display_name": "Python 3 (ipykernel)",
   "language": "python",
   "name": "python3"
  },
  "language_info": {
   "codemirror_mode": {
    "name": "ipython",
    "version": 3
   },
   "file_extension": ".py",
   "mimetype": "text/x-python",
   "name": "python",
   "nbconvert_exporter": "python",
   "pygments_lexer": "ipython3",
   "version": "3.8.13"
  }
 },
 "nbformat": 4,
 "nbformat_minor": 5
}
