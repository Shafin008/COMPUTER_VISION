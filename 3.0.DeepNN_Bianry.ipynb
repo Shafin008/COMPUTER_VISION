{
 "cells": [
  {
   "cell_type": "code",
   "execution_count": 1,
   "id": "e3ddcbec-d6f7-448a-9a12-a233071c20b9",
   "metadata": {},
   "outputs": [],
   "source": [
    "import torch\n",
    "import torchvision\n",
    "from sklearn.datasets import make_circles"
   ]
  },
  {
   "cell_type": "code",
   "execution_count": 2,
   "id": "26dd78de-a873-4a9e-a072-548bcb5296a4",
   "metadata": {},
   "outputs": [],
   "source": [
    "# Make 1000 samples \n",
    "n_samples = 5000\n",
    "\n",
    "# Create circles\n",
    "X, y = make_circles(n_samples,\n",
    "                    noise=0.02, # a little bit of noise to the dots\n",
    "                    random_state=42) # keep random state so we get the same values"
   ]
  },
  {
   "cell_type": "code",
   "execution_count": 3,
   "id": "4287d2ce-af5f-48f2-8a9b-78774f14a72d",
   "metadata": {},
   "outputs": [
    {
     "name": "stdout",
     "output_type": "stream",
     "text": [
      "First 5 X features:\n",
      "[[-0.76928899 -0.57253359]\n",
      " [ 0.78695815  0.14302339]\n",
      " [ 0.74562001  0.3043983 ]\n",
      " [-0.88626403  0.48336329]\n",
      " [-0.17727187  0.96348697]]\n",
      "\n",
      "First 5 y labels:\n",
      "[0 1 1 0 0]\n"
     ]
    }
   ],
   "source": [
    "print(f\"First 5 X features:\\n{X[:5]}\")\n",
    "print(f\"\\nFirst 5 y labels:\\n{y[:5]}\")"
   ]
  },
  {
   "cell_type": "code",
   "execution_count": 4,
   "id": "b616e1c3-eb48-4795-b3ce-2f7a81ffbad7",
   "metadata": {},
   "outputs": [
    {
     "data": {
      "image/png": "[encoded data removed]",
      "text/plain": [
       "<Figure size 432x288 with 1 Axes>"
      ]
     },
     "metadata": {
      "needs_background": "light"
     },
     "output_type": "display_data"
    }
   ],
   "source": [
    "# Visualize with a plot\n",
    "import matplotlib.pyplot as plt\n",
    "plt.scatter(x=X[:, 0], \n",
    "            y=X[:, 1], \n",
    "            c=y, \n",
    "            cmap=plt.cm.RdYlBu);"
   ]
  },
  {
   "cell_type": "code",
   "execution_count": 5,
   "id": "c02c9ebf-a5be-47fe-bfcf-b5d5b1447967",
   "metadata": {},
   "outputs": [],
   "source": [
    "from torch.utils.data import TensorDataset, DataLoader, random_split\n",
    "from torchvision.transforms import transforms"
   ]
  },
  {
   "cell_type": "code",
   "execution_count": 6,
   "id": "c20fd09d-69ec-414d-baa8-b1e8b6384a73",
   "metadata": {},
   "outputs": [
    {
     "data": {
      "text/plain": [
       "5000"
      ]
     },
     "execution_count": 6,
     "metadata": {},
     "output_type": "execute_result"
    }
   ],
   "source": [
    "len(X)"
   ]
  },
  {
   "cell_type": "markdown",
   "id": "5f99293e-1a81-49c7-9b18-f9fa64fab08b",
   "metadata": {},
   "source": [
    "### Data split"
   ]
  },
  {
   "cell_type": "code",
   "execution_count": 7,
   "id": "df82376d-de03-4240-a683-eed747cf1dc9",
   "metadata": {},
   "outputs": [
    {
     "data": {
      "text/plain": [
       "(4000, 1000, 4000, 1000)"
      ]
     },
     "execution_count": 7,
     "metadata": {},
     "output_type": "execute_result"
    }
   ],
   "source": [
    "## Split the data\n",
    "# Split data into train and test sets\n",
    "from sklearn.model_selection import train_test_split\n",
    "\n",
    "X_train, X_test, Y_train, Y_test = train_test_split(X, \n",
    "                                                    y, \n",
    "                                                    test_size=0.2, # 20% test, 80% train\n",
    "                                                    random_state=42) # make the random split reproducible\n",
    "\n",
    "len(X_train), len(X_test), len(Y_train), len(Y_test)"
   ]
  },
  {
   "cell_type": "code",
   "execution_count": 8,
   "id": "3990cf0c-c14c-4bd9-8090-dc0bee70d7da",
   "metadata": {},
   "outputs": [
    {
     "data": {
      "text/plain": [
       "(3200, 3200, 800, 800)"
      ]
     },
     "execution_count": 8,
     "metadata": {},
     "output_type": "execute_result"
    }
   ],
   "source": [
    "x_train, val_train, y_train, val_test = train_test_split(X_train, \n",
    "                                                    Y_train, \n",
    "                                                    test_size=0.2, # 20% test, 80% train\n",
    "                                                    random_state=42) # make the random split reproducible\n",
    "\n",
    "len(x_train), len(y_train), len(val_train), len(val_test)"
   ]
  },
  {
   "cell_type": "markdown",
   "id": "99088371-76fa-46a2-8dc1-370588577868",
   "metadata": {},
   "source": [
    "### TensorDataset"
   ]
  },
  {
   "cell_type": "code",
   "execution_count": 9,
   "id": "ad6e081a-603c-42bd-8cc3-5e6bce4345e9",
   "metadata": {},
   "outputs": [
    {
     "data": {
      "text/plain": [
       "(torch.float32, torch.float32)"
      ]
     },
     "execution_count": 9,
     "metadata": {},
     "output_type": "execute_result"
    }
   ],
   "source": [
    "x_train = torch.from_numpy(x_train)\n",
    "x_train = x_train.type(torch.float32)\n",
    "y_train = torch.from_numpy(y_train)\n",
    "y_train = y_train.type(torch.float32)\n",
    "x_train.dtype, y_train.dtype"
   ]
  },
  {
   "cell_type": "code",
   "execution_count": 10,
   "id": "91041d82-c54c-4bbf-85a6-54cf78e75f80",
   "metadata": {},
   "outputs": [
    {
     "data": {
      "text/plain": [
       "(torch.float32, torch.float32)"
      ]
     },
     "execution_count": 10,
     "metadata": {},
     "output_type": "execute_result"
    }
   ],
   "source": [
    "val_train = torch.from_numpy(val_train)\n",
    "val_train = val_train.type(torch.float32)\n",
    "val_test = torch.from_numpy(val_test)\n",
    "val_test = val_test.type(torch.float32)\n",
    "val_train.dtype, val_test.dtype"
   ]
  },
  {
   "cell_type": "code",
   "execution_count": 11,
   "id": "9473bf9e-3c05-4a9c-a791-79ef9c7928e5",
   "metadata": {},
   "outputs": [
    {
     "data": {
      "text/plain": [
       "(torch.float32, torch.float32)"
      ]
     },
     "execution_count": 11,
     "metadata": {},
     "output_type": "execute_result"
    }
   ],
   "source": [
    "x_test = torch.from_numpy(X_test)\n",
    "x_test = x_test.type(torch.float32)\n",
    "y_test = torch.from_numpy(Y_test)\n",
    "y_test = y_test.type(torch.float32)\n",
    "x_test.dtype, y_test.dtype"
   ]
  },
  {
   "cell_type": "code",
   "execution_count": 12,
   "id": "5f763386-2e6d-4518-af9f-d34ca456153c",
   "metadata": {},
   "outputs": [],
   "source": [
    "train_ds = TensorDataset(x_train, y_train)"
   ]
  },
  {
   "cell_type": "code",
   "execution_count": 13,
   "id": "3383d3aa-f27b-4dd0-91f5-017b60b1b043",
   "metadata": {},
   "outputs": [],
   "source": [
    "valid_ds = TensorDataset(val_train, val_test)"
   ]
  },
  {
   "cell_type": "code",
   "execution_count": 14,
   "id": "4e2b8bba-8a93-4a31-aa5d-cbe2ca83070a",
   "metadata": {},
   "outputs": [],
   "source": [
    "test_ds = TensorDataset(x_test, y_test)"
   ]
  },
  {
   "cell_type": "code",
   "execution_count": 15,
   "id": "9abe91fa-e351-44aa-ad46-ecd1b156d7ac",
   "metadata": {},
   "outputs": [
    {
     "data": {
      "text/plain": [
       "(tensor([-0.7891,  0.0607]), tensor(1.))"
      ]
     },
     "execution_count": 15,
     "metadata": {},
     "output_type": "execute_result"
    }
   ],
   "source": [
    "train_ds[0]"
   ]
  },
  {
   "cell_type": "markdown",
   "id": "54be189b-8f3a-4c2f-9b78-043298655ee7",
   "metadata": {},
   "source": [
    "### Dataloader"
   ]
  },
  {
   "cell_type": "code",
   "execution_count": 16,
   "id": "6741c9bf-7b30-4f9d-ba8e-7014309c1b3a",
   "metadata": {},
   "outputs": [
    {
     "data": {
      "text/plain": [
       "<torch.utils.data.dataloader.DataLoader at 0x1477d2280>"
      ]
     },
     "execution_count": 16,
     "metadata": {},
     "output_type": "execute_result"
    }
   ],
   "source": [
    "batch_size = 64\n",
    "train_dl = DataLoader(dataset = train_ds, batch_size=batch_size, shuffle=True)\n",
    "train_dl"
   ]
  },
  {
   "cell_type": "code",
   "execution_count": 17,
   "id": "5d6fe04d-bbbf-4b92-bfd9-3063f37d11da",
   "metadata": {},
   "outputs": [
    {
     "data": {
      "text/plain": [
       "<torch.utils.data.dataloader.DataLoader at 0x1477d2670>"
      ]
     },
     "execution_count": 17,
     "metadata": {},
     "output_type": "execute_result"
    }
   ],
   "source": [
    "valid_dl = DataLoader(dataset = valid_ds, batch_size=32)\n",
    "valid_dl"
   ]
  },
  {
   "cell_type": "code",
   "execution_count": 18,
   "id": "d0e88af5-d76e-4413-949e-e217ec0f0d35",
   "metadata": {},
   "outputs": [
    {
     "data": {
      "text/plain": [
       "<torch.utils.data.dataloader.DataLoader at 0x1477d2a60>"
      ]
     },
     "execution_count": 18,
     "metadata": {},
     "output_type": "execute_result"
    }
   ],
   "source": [
    "test_dl = DataLoader(dataset = test_ds, batch_size=32)\n",
    "test_dl"
   ]
  },
  {
   "cell_type": "markdown",
   "id": "f0c77f20-17ae-4cee-8366-75e885f792cb",
   "metadata": {},
   "source": [
    "### Test"
   ]
  },
  {
   "cell_type": "code",
   "execution_count": 19,
   "id": "09f71430-1786-4beb-b0cc-6228e67939b6",
   "metadata": {},
   "outputs": [],
   "source": [
    "import torch.nn as nn"
   ]
  },
  {
   "cell_type": "code",
   "execution_count": 20,
   "id": "2327e192-c216-4b09-901b-cffcaaa6745f",
   "metadata": {},
   "outputs": [
    {
     "data": {
      "text/plain": [
       "(torch.Size([3200, 2]), torch.Size([3200]))"
      ]
     },
     "execution_count": 20,
     "metadata": {},
     "output_type": "execute_result"
    }
   ],
   "source": [
    "x_train.shape, y_train.shape"
   ]
  },
  {
   "cell_type": "code",
   "execution_count": 21,
   "id": "b950410b-582b-425d-b5e1-500f0f81f233",
   "metadata": {},
   "outputs": [
    {
     "data": {
      "text/plain": [
       "Linear(in_features=2, out_features=1, bias=True)"
      ]
     },
     "execution_count": 21,
     "metadata": {},
     "output_type": "execute_result"
    }
   ],
   "source": [
    "model = nn.Linear(in_features=2, out_features=1)\n",
    "model"
   ]
  },
  {
   "cell_type": "code",
   "execution_count": 22,
   "id": "651a4b40-32e0-4db8-9aae-e78f9ae8e279",
   "metadata": {},
   "outputs": [
    {
     "data": {
      "text/plain": [
       "OrderedDict([('weight', tensor([[0.6628, 0.0151]])),\n",
       "             ('bias', tensor([-0.6446]))])"
      ]
     },
     "execution_count": 22,
     "metadata": {},
     "output_type": "execute_result"
    }
   ],
   "source": [
    "model.state_dict()"
   ]
  },
  {
   "cell_type": "code",
   "execution_count": 23,
   "id": "4c2fa04d-29e7-4ab5-9483-caca3de31b9f",
   "metadata": {},
   "outputs": [
    {
     "name": "stdout",
     "output_type": "stream",
     "text": [
      "torch.Size([64, 2])\n",
      "torch.Size([64, 1])\n"
     ]
    }
   ],
   "source": [
    "for xb, yb in train_dl:\n",
    "    print(xb.shape)\n",
    "    out = model(xb)\n",
    "    print(out.shape)\n",
    "    break"
   ]
  },
  {
   "cell_type": "code",
   "execution_count": 24,
   "id": "f0be366c-efef-407a-a9f8-ae7daff68eaf",
   "metadata": {},
   "outputs": [
    {
     "data": {
      "text/plain": [
       "torch.Size([64])"
      ]
     },
     "execution_count": 24,
     "metadata": {},
     "output_type": "execute_result"
    }
   ],
   "source": [
    "logits = model(xb)\n",
    "preds = torch.round(torch.sigmoid(logits)).squeeze()\n",
    "preds.shape"
   ]
  },
  {
   "cell_type": "code",
   "execution_count": 25,
   "id": "b5b57d73-0cca-433b-890a-c1fe96e8ce1b",
   "metadata": {},
   "outputs": [
    {
     "data": {
      "text/plain": [
       "tensor([0., 0., 0., 1., 0.], grad_fn=<SliceBackward0>)"
      ]
     },
     "execution_count": 25,
     "metadata": {},
     "output_type": "execute_result"
    }
   ],
   "source": [
    "preds[:5]"
   ]
  },
  {
   "cell_type": "code",
   "execution_count": 26,
   "id": "2cf5cefe-9516-45ea-9e50-5018b65298cd",
   "metadata": {},
   "outputs": [
    {
     "data": {
      "text/plain": [
       "tensor([0., 0., 1., 0., 0.])"
      ]
     },
     "execution_count": 26,
     "metadata": {},
     "output_type": "execute_result"
    }
   ],
   "source": [
    "yb[:5]"
   ]
  },
  {
   "cell_type": "code",
   "execution_count": 27,
   "id": "cb22eeb2-aa84-4458-b680-11301a45f754",
   "metadata": {},
   "outputs": [],
   "source": [
    "loss_fn = nn.BCEWithLogitsLoss()"
   ]
  },
  {
   "cell_type": "code",
   "execution_count": 28,
   "id": "6e6723dd-2b0b-486c-9484-a46712504b63",
   "metadata": {},
   "outputs": [
    {
     "data": {
      "text/plain": [
       "tensor(0.7125, grad_fn=<BinaryCrossEntropyWithLogitsBackward0>)"
      ]
     },
     "execution_count": 28,
     "metadata": {},
     "output_type": "execute_result"
    }
   ],
   "source": [
    "loss = loss_fn(preds, yb)\n",
    "loss"
   ]
  },
  {
   "cell_type": "code",
   "execution_count": 29,
   "id": "975443c7-2356-47d9-819a-30772882788f",
   "metadata": {},
   "outputs": [],
   "source": [
    "def accuracy(preds, labels):\n",
    "    return torch.tensor(torch.sum(preds == labels).item() / len(preds))"
   ]
  },
  {
   "cell_type": "code",
   "execution_count": 30,
   "id": "e0909fa8-061a-4ef4-babb-b4a96299d108",
   "metadata": {},
   "outputs": [
    {
     "data": {
      "text/plain": [
       "tensor(0.5156)"
      ]
     },
     "execution_count": 30,
     "metadata": {},
     "output_type": "execute_result"
    }
   ],
   "source": [
    "accuracy(preds,yb)"
   ]
  },
  {
   "cell_type": "markdown",
   "id": "ef26d1a6-957b-4b1a-b6bc-719accd46e85",
   "metadata": {},
   "source": [
    "### Custom model"
   ]
  },
  {
   "cell_type": "code",
   "execution_count": 31,
   "id": "15586035-4e59-4578-9481-be9fadd3079f",
   "metadata": {},
   "outputs": [],
   "source": [
    "def fit(epochs, lr, model, train_dl, valid_dl, opt_func = torch.optim.SGD):\n",
    "    optimizer = opt_func(model.parameters(), lr=lr)\n",
    "    history = []\n",
    "    \n",
    "    for epoch in range(epochs):\n",
    "        for batch in train_dl:\n",
    "            model.train()\n",
    "            loss = model.training_step(batch)\n",
    "            loss.backward()\n",
    "            optimizer.step()\n",
    "            optimizer.zero_grad()\n",
    "            \n",
    "        model.eval()\n",
    "        with torch.inference_mode():\n",
    "            result = evaluate(model, valid_dl)\n",
    "            model.epoch_end(epoch, result)\n",
    "            history.append(result)\n",
    "    return history"
   ]
  },
  {
   "cell_type": "code",
   "execution_count": 32,
   "id": "c6531fde-d4d3-4477-b1ae-cb1189a785ed",
   "metadata": {},
   "outputs": [],
   "source": [
    "def evaluate(model, valid_dl):\n",
    "    valid_pred = [model.validation_step(batch) for batch in valid_dl]\n",
    "    return model.validation_epoch_end(valid_pred)"
   ]
  },
  {
   "cell_type": "code",
   "execution_count": 41,
   "id": "e81f32f0-d72b-4998-993d-8a92b55c2494",
   "metadata": {},
   "outputs": [],
   "source": [
    "class LogisticRegression(nn.Module):\n",
    "    def __init__(self):\n",
    "        super().__init__()\n",
    "        self.layer_1 = nn.Linear(in_features=2, out_features=8)\n",
    "        self.layer_2 = nn.Linear(in_features=8, out_features=1)\n",
    "        # self.layer_3 = nn.Linear(in_features=10, out_features=1)\n",
    "        self.relu = nn.ReLU()\n",
    "    \n",
    "    def forward(self, xb):\n",
    "        xb = self.layer_2(self.relu(self.layer_1(xb)))\n",
    "        return xb\n",
    "    \n",
    "    def training_step(self, batch):\n",
    "        samples, labels = batch\n",
    "        logits = self(samples)\n",
    "        preds = torch.round(torch.sigmoid(logits)).squeeze()\n",
    "        loss = loss_fn(logits.squeeze(), labels)\n",
    "        return loss\n",
    "    \n",
    "    def validation_step(self, batch):\n",
    "        samples, labels = batch\n",
    "        logits = self(samples)\n",
    "        preds = torch.round(torch.sigmoid(logits)).squeeze()\n",
    "        loss = loss_fn(logits.squeeze(), labels)\n",
    "        acc = accuracy(preds, labels)\n",
    "        return {\"val_loss\": loss, \"val_acc\": acc}\n",
    "        \n",
    "    def validation_epoch_end(self, val_pred):\n",
    "        batch_loss = [x['val_loss'] for x in val_pred]\n",
    "        epoch_loss = torch.stack(batch_loss).mean()\n",
    "        batch_acc = [x['val_acc'] for x in val_pred]\n",
    "        epoch_acc = torch.stack(batch_acc).mean()\n",
    "        return {'val_loss': epoch_loss, 'val_acc': epoch_acc}\n",
    "    \n",
    "    def epoch_end(self, epoch, result):\n",
    "        print(\"Epoch [{}] | valid_loss: {:.4f} | valid_acc: {:.4f}\".format(epoch, result['val_loss'], result['val_acc']))"
   ]
  },
  {
   "cell_type": "code",
   "execution_count": 42,
   "id": "dec396b1-25fd-4fcd-80a0-62706b4fc073",
   "metadata": {},
   "outputs": [
    {
     "data": {
      "text/plain": [
       "LogisticRegression(\n",
       "  (layer_1): Linear(in_features=2, out_features=8, bias=True)\n",
       "  (layer_2): Linear(in_features=8, out_features=1, bias=True)\n",
       "  (relu): ReLU()\n",
       ")"
      ]
     },
     "execution_count": 42,
     "metadata": {},
     "output_type": "execute_result"
    }
   ],
   "source": [
    "model = LogisticRegression()\n",
    "model"
   ]
  },
  {
   "cell_type": "code",
   "execution_count": 43,
   "id": "36b7840e-9a54-4279-9c0f-51cdb850f6d7",
   "metadata": {},
   "outputs": [
    {
     "data": {
      "text/plain": [
       "{'val_loss': tensor(0.7004, grad_fn=<MeanBackward0>),\n",
       " 'val_acc': tensor(0.5150)}"
      ]
     },
     "execution_count": 43,
     "metadata": {},
     "output_type": "execute_result"
    }
   ],
   "source": [
    "result0 = evaluate(model, valid_dl)\n",
    "result0"
   ]
  },
  {
   "cell_type": "code",
   "execution_count": 44,
   "id": "6f74fe34-8c27-4075-9098-cab48373bf62",
   "metadata": {
    "collapsed": true,
    "jupyter": {
     "outputs_hidden": true
    },
    "tags": []
   },
   "outputs": [
    {
     "name": "stdout",
     "output_type": "stream",
     "text": [
      "Epoch [0] | valid_loss: 0.6977 | valid_acc: 0.5150\n",
      "Epoch [1] | valid_loss: 0.6957 | valid_acc: 0.4575\n",
      "Epoch [2] | valid_loss: 0.6938 | valid_acc: 0.5150\n",
      "Epoch [3] | valid_loss: 0.6921 | valid_acc: 0.4825\n",
      "Epoch [4] | valid_loss: 0.6905 | valid_acc: 0.5650\n",
      "Epoch [5] | valid_loss: 0.6888 | valid_acc: 0.5200\n",
      "Epoch [6] | valid_loss: 0.6877 | valid_acc: 0.6112\n",
      "Epoch [7] | valid_loss: 0.6857 | valid_acc: 0.5700\n",
      "Epoch [8] | valid_loss: 0.6842 | valid_acc: 0.5863\n",
      "Epoch [9] | valid_loss: 0.6820 | valid_acc: 0.5813\n",
      "Epoch [10] | valid_loss: 0.6795 | valid_acc: 0.5688\n",
      "Epoch [11] | valid_loss: 0.6773 | valid_acc: 0.5875\n",
      "Epoch [12] | valid_loss: 0.6746 | valid_acc: 0.5938\n",
      "Epoch [13] | valid_loss: 0.6720 | valid_acc: 0.5925\n",
      "Epoch [14] | valid_loss: 0.6692 | valid_acc: 0.5975\n",
      "Epoch [15] | valid_loss: 0.6662 | valid_acc: 0.6012\n",
      "Epoch [16] | valid_loss: 0.6631 | valid_acc: 0.6425\n",
      "Epoch [17] | valid_loss: 0.6591 | valid_acc: 0.6338\n",
      "Epoch [18] | valid_loss: 0.6548 | valid_acc: 0.6187\n",
      "Epoch [19] | valid_loss: 0.6505 | valid_acc: 0.6637\n",
      "Epoch [20] | valid_loss: 0.6449 | valid_acc: 0.6463\n",
      "Epoch [21] | valid_loss: 0.6392 | valid_acc: 0.6450\n",
      "Epoch [22] | valid_loss: 0.6328 | valid_acc: 0.6700\n",
      "Epoch [23] | valid_loss: 0.6256 | valid_acc: 0.7650\n",
      "Epoch [24] | valid_loss: 0.6181 | valid_acc: 0.7738\n",
      "Epoch [25] | valid_loss: 0.6106 | valid_acc: 0.8750\n",
      "Epoch [26] | valid_loss: 0.6004 | valid_acc: 0.8675\n",
      "Epoch [27] | valid_loss: 0.5930 | valid_acc: 0.9237\n",
      "Epoch [28] | valid_loss: 0.5810 | valid_acc: 0.9325\n",
      "Epoch [29] | valid_loss: 0.5703 | valid_acc: 0.9362\n",
      "Epoch [30] | valid_loss: 0.5587 | valid_acc: 0.9362\n",
      "Epoch [31] | valid_loss: 0.5492 | valid_acc: 0.9312\n",
      "Epoch [32] | valid_loss: 0.5335 | valid_acc: 0.9375\n",
      "Epoch [33] | valid_loss: 0.5208 | valid_acc: 0.9463\n",
      "Epoch [34] | valid_loss: 0.5074 | valid_acc: 0.9475\n",
      "Epoch [35] | valid_loss: 0.4963 | valid_acc: 0.9300\n",
      "Epoch [36] | valid_loss: 0.4765 | valid_acc: 0.9775\n",
      "Epoch [37] | valid_loss: 0.4626 | valid_acc: 0.9638\n",
      "Epoch [38] | valid_loss: 0.4478 | valid_acc: 0.9787\n",
      "Epoch [39] | valid_loss: 0.4336 | valid_acc: 0.9750\n",
      "Epoch [40] | valid_loss: 0.4165 | valid_acc: 0.9875\n",
      "Epoch [41] | valid_loss: 0.3985 | valid_acc: 0.9862\n",
      "Epoch [42] | valid_loss: 0.3846 | valid_acc: 0.9875\n",
      "Epoch [43] | valid_loss: 0.3698 | valid_acc: 0.9800\n",
      "Epoch [44] | valid_loss: 0.3496 | valid_acc: 0.9975\n",
      "Epoch [45] | valid_loss: 0.3375 | valid_acc: 0.9937\n",
      "Epoch [46] | valid_loss: 0.3181 | valid_acc: 1.0000\n",
      "Epoch [47] | valid_loss: 0.3038 | valid_acc: 0.9975\n",
      "Epoch [48] | valid_loss: 0.2913 | valid_acc: 0.9987\n",
      "Epoch [49] | valid_loss: 0.2771 | valid_acc: 0.9975\n",
      "Epoch [50] | valid_loss: 0.2639 | valid_acc: 0.9975\n",
      "Epoch [51] | valid_loss: 0.2492 | valid_acc: 1.0000\n",
      "Epoch [52] | valid_loss: 0.2378 | valid_acc: 1.0000\n",
      "Epoch [53] | valid_loss: 0.2268 | valid_acc: 1.0000\n",
      "Epoch [54] | valid_loss: 0.2153 | valid_acc: 1.0000\n",
      "Epoch [55] | valid_loss: 0.2076 | valid_acc: 1.0000\n",
      "Epoch [56] | valid_loss: 0.1955 | valid_acc: 1.0000\n",
      "Epoch [57] | valid_loss: 0.1875 | valid_acc: 1.0000\n",
      "Epoch [58] | valid_loss: 0.1785 | valid_acc: 1.0000\n",
      "Epoch [59] | valid_loss: 0.1721 | valid_acc: 1.0000\n",
      "Epoch [60] | valid_loss: 0.1623 | valid_acc: 1.0000\n",
      "Epoch [61] | valid_loss: 0.1553 | valid_acc: 1.0000\n",
      "Epoch [62] | valid_loss: 0.1488 | valid_acc: 1.0000\n",
      "Epoch [63] | valid_loss: 0.1422 | valid_acc: 1.0000\n",
      "Epoch [64] | valid_loss: 0.1377 | valid_acc: 1.0000\n",
      "Epoch [65] | valid_loss: 0.1311 | valid_acc: 1.0000\n",
      "Epoch [66] | valid_loss: 0.1257 | valid_acc: 1.0000\n",
      "Epoch [67] | valid_loss: 0.1206 | valid_acc: 1.0000\n",
      "Epoch [68] | valid_loss: 0.1159 | valid_acc: 1.0000\n",
      "Epoch [69] | valid_loss: 0.1115 | valid_acc: 1.0000\n",
      "Epoch [70] | valid_loss: 0.1072 | valid_acc: 1.0000\n",
      "Epoch [71] | valid_loss: 0.1034 | valid_acc: 1.0000\n",
      "Epoch [72] | valid_loss: 0.1012 | valid_acc: 1.0000\n",
      "Epoch [73] | valid_loss: 0.0957 | valid_acc: 1.0000\n",
      "Epoch [74] | valid_loss: 0.0924 | valid_acc: 1.0000\n"
     ]
    }
   ],
   "source": [
    "history1 = fit(75, 0.1, model, train_dl, valid_dl)"
   ]
  },
  {
   "cell_type": "code",
   "execution_count": 45,
   "id": "de686449-1e98-46d8-bb11-ed0c31de68d3",
   "metadata": {},
   "outputs": [
    {
     "data": {
      "image/png": "[encoded data removed]",
      "text/plain": [
       "<Figure size 432x288 with 1 Axes>"
      ]
     },
     "metadata": {
      "needs_background": "light"
     },
     "output_type": "display_data"
    }
   ],
   "source": [
    "history = [result0] + history1\n",
    "accuracies = [result['val_acc'] for result in history]\n",
    "plt.plot(accuracies, '-x')\n",
    "plt.xlabel('epoch')\n",
    "plt.ylabel('accuracy')\n",
    "plt.title('Accuracy vs. No. of epochs');"
   ]
  },
  {
   "cell_type": "code",
   "execution_count": 46,
   "id": "a46165ac-2dcd-412c-81c8-617df2604b95",
   "metadata": {},
   "outputs": [
    {
     "data": {
      "text/plain": [
       "(tensor([0., 0., 0., 1., 1., 0., 1., 1., 0., 1.]),\n",
       " tensor([0., 0., 0., 1., 1., 0., 1., 1., 0., 1.]))"
      ]
     },
     "execution_count": 46,
     "metadata": {},
     "output_type": "execute_result"
    }
   ],
   "source": [
    "# Make predictions\n",
    "model.eval()\n",
    "with torch.inference_mode():\n",
    "    y_preds = torch.round(torch.sigmoid(model(x_test))).squeeze()\n",
    "y_preds[:10], y_test[:10] # want preds in same format as truth labels"
   ]
  },
  {
   "cell_type": "code",
   "execution_count": 47,
   "id": "ed0a13f4-f93f-47d3-af9e-36aa757a21b1",
   "metadata": {},
   "outputs": [
    {
     "data": {
      "text/plain": [
       "tensor(0.9990)"
      ]
     },
     "execution_count": 47,
     "metadata": {},
     "output_type": "execute_result"
    }
   ],
   "source": [
    "test_accuracy = accuracy(y_preds,y_test)\n",
    "test_accuracy"
   ]
  },
  {
   "cell_type": "code",
   "execution_count": null,
   "id": "845d0cd8-d461-46de-89a7-859c0c78b823",
   "metadata": {},
   "outputs": [],
   "source": []
  },
  {
   "cell_type": "code",
   "execution_count": 48,
   "id": "335bd34d-cbcf-4d26-bf32-73ed4782ebb6",
   "metadata": {},
   "outputs": [],
   "source": [
    "from helper_functions import plot_decision_boundary"
   ]
  },
  {
   "cell_type": "code",
   "execution_count": 49,
   "id": "384eb7fa-5cc7-4312-96ee-6285d3be8863",
   "metadata": {},
   "outputs": [
    {
     "data": {
      "image/png": "[encoded data removed]",
      "text/plain": [
       "<Figure size 864x432 with 2 Axes>"
      ]
     },
     "metadata": {
      "needs_background": "light"
     },
     "output_type": "display_data"
    }
   ],
   "source": [
    "# Plot decision boundaries for training and test sets\n",
    "plt.figure(figsize=(12, 6))\n",
    "plt.subplot(1, 2, 1)\n",
    "plt.title(\"Train\")\n",
    "plot_decision_boundary(model, x_train, y_train) # model_1 = no non-linearity\n",
    "plt.subplot(1, 2, 2)\n",
    "plt.title(\"Test\")\n",
    "plot_decision_boundary(model, x_test, y_test) # model_3 = has non-linearity"
   ]
  },
  {
   "cell_type": "code",
   "execution_count": null,
   "id": "6dbb46e9-212e-4c81-9ee3-34dfc119d52c",
   "metadata": {},
   "outputs": [],
   "source": []
  },
  {
   "cell_type": "code",
   "execution_count": null,
   "id": "deb9b270-3d50-41bf-9e8b-35c8bc0ac812",
   "metadata": {},
   "outputs": [],
   "source": []
  },
  {
   "cell_type": "code",
   "execution_count": null,
   "id": "d1fd770b-310a-491a-ad02-1cc5d26c7391",
   "metadata": {},
   "outputs": [],
   "source": []
  },
  {
   "cell_type": "code",
   "execution_count": null,
   "id": "6eeffd0e-d350-45e7-9e69-e143b7050641",
   "metadata": {},
   "outputs": [],
   "source": []
  }
 ],
 "metadata": {
  "kernelspec": {
   "display_name": "Python 3 (ipykernel)",
   "language": "python",
   "name": "python3"
  },
  "language_info": {
   "codemirror_mode": {
    "name": "ipython",
    "version": 3
   },
   "file_extension": ".py",
   "mimetype": "text/x-python",
   "name": "python",
   "nbconvert_exporter": "python",
   "pygments_lexer": "ipython3",
   "version": "3.10.11"
  }
 },
 "nbformat": 4,
 "nbformat_minor": 5
}
