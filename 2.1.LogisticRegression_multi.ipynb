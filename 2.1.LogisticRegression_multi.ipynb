{
 "cells": [
  {
   "cell_type": "markdown",
   "id": "b6a87ca1-4b9f-4696-bfb1-b16f5d01a513",
   "metadata": {},
   "source": [
    "## Data"
   ]
  },
  {
   "cell_type": "code",
   "execution_count": 1,
   "id": "31a845ba-c745-41c4-85df-e434031f18f7",
   "metadata": {},
   "outputs": [],
   "source": [
    "import torch\n",
    "import torchvision\n",
    "from torchvision.datasets import MNIST"
   ]
  },
  {
   "cell_type": "code",
   "execution_count": 2,
   "id": "34cf75ba-3c92-4093-8f76-f690f49f4ba1",
   "metadata": {},
   "outputs": [],
   "source": [
    "train_dataset = MNIST(root = '../DanielBourke/MNIST_data', download = False, train = True)"
   ]
  },
  {
   "cell_type": "code",
   "execution_count": 3,
   "id": "c2c81cde-9a41-4e3f-b7aa-7571fe260287",
   "metadata": {},
   "outputs": [
    {
     "data": {
      "text/plain": [
       "60000"
      ]
     },
     "execution_count": 3,
     "metadata": {},
     "output_type": "execute_result"
    }
   ],
   "source": [
    "len(train_dataset)"
   ]
  },
  {
   "cell_type": "code",
   "execution_count": 4,
   "id": "c3367906-7432-4916-85c6-3cd503e22d28",
   "metadata": {},
   "outputs": [],
   "source": [
    "test_dataset = MNIST(root = '../DanielBourke/MNIST_data', download = False, train = False)"
   ]
  },
  {
   "cell_type": "code",
   "execution_count": 5,
   "id": "4ad6adc9-2ea6-43f0-b085-53b5aafa0aa1",
   "metadata": {},
   "outputs": [
    {
     "data": {
      "text/plain": [
       "10000"
      ]
     },
     "execution_count": 5,
     "metadata": {},
     "output_type": "execute_result"
    }
   ],
   "source": [
    "len(test_dataset)"
   ]
  },
  {
   "cell_type": "markdown",
   "id": "b72e8562-204f-481e-886f-8cfeae4f60cd",
   "metadata": {},
   "source": [
    "### Data Visualization"
   ]
  },
  {
   "cell_type": "code",
   "execution_count": 6,
   "id": "d6376b7e-b3b6-4d45-bd44-d830c28d201f",
   "metadata": {},
   "outputs": [
    {
     "data": {
      "text/plain": [
       "(<PIL.Image.Image image mode=L size=28x28 at 0x13E459DC0>, 5)"
      ]
     },
     "execution_count": 6,
     "metadata": {},
     "output_type": "execute_result"
    }
   ],
   "source": [
    "train_dataset[0]"
   ]
  },
  {
   "cell_type": "code",
   "execution_count": 7,
   "id": "08a368c3-d2cc-4e60-875b-cbb472c4e192",
   "metadata": {},
   "outputs": [],
   "source": [
    "import matplotlib.pyplot as plt\n",
    "%matplotlib inline"
   ]
  },
  {
   "cell_type": "code",
   "execution_count": 8,
   "id": "cdeb9e57-6107-4d85-bd1a-850a088da796",
   "metadata": {},
   "outputs": [
    {
     "name": "stdout",
     "output_type": "stream",
     "text": [
      "label 5\n"
     ]
    },
    {
     "data": {
      "image/png": "[encoded data removed]",
      "text/plain": [
       "<Figure size 432x288 with 1 Axes>"
      ]
     },
     "metadata": {
      "needs_background": "light"
     },
     "output_type": "display_data"
    }
   ],
   "source": [
    "image, label = train_dataset[0]\n",
    "plt.imshow(image, cmap='gray')\n",
    "print('label', label)"
   ]
  },
  {
   "cell_type": "code",
   "execution_count": 9,
   "id": "58cd3b9c-e14e-41ca-9bfc-1ea1ff0e7476",
   "metadata": {},
   "outputs": [
    {
     "name": "stdout",
     "output_type": "stream",
     "text": [
      "label 7\n"
     ]
    },
    {
     "data": {
      "image/png": "[encoded data removed]",
      "text/plain": [
       "<Figure size 432x288 with 1 Axes>"
      ]
     },
     "metadata": {
      "needs_background": "light"
     },
     "output_type": "display_data"
    }
   ],
   "source": [
    "image, label = test_dataset[0]\n",
    "plt.imshow(image, cmap='gray')\n",
    "print('label', label)"
   ]
  },
  {
   "cell_type": "markdown",
   "id": "6a5fde59-456e-4b35-bd56-42ed21f5ed66",
   "metadata": {},
   "source": [
    "### Transforming data"
   ]
  },
  {
   "cell_type": "code",
   "execution_count": 10,
   "id": "6135b0ad-cc91-48cf-8b61-4e4e894c94bf",
   "metadata": {},
   "outputs": [],
   "source": [
    "from torchvision.transforms import transforms"
   ]
  },
  {
   "cell_type": "code",
   "execution_count": 11,
   "id": "4ab230fe-9251-48a6-8145-3ee2f43c8165",
   "metadata": {},
   "outputs": [],
   "source": [
    "train_dataset = MNIST(root = '../DanielBourke/MNIST_data', download = False, train = True,\n",
    "                     transform = transforms.ToTensor())"
   ]
  },
  {
   "cell_type": "code",
   "execution_count": 138,
   "id": "e86407e6-3b51-4ff0-9b5f-bc870ffcd2db",
   "metadata": {},
   "outputs": [],
   "source": [
    "test_dataset = MNIST(root = '../DanielBourke/MNIST_data', download = False, train = False,transform = transforms.ToTensor())"
   ]
  },
  {
   "cell_type": "code",
   "execution_count": 16,
   "id": "0c7617ad-615d-4392-bf9d-a772c728f6ea",
   "metadata": {},
   "outputs": [
    {
     "data": {
      "text/plain": [
       "(torch.Size([1, 28, 28]), 5)"
      ]
     },
     "execution_count": 16,
     "metadata": {},
     "output_type": "execute_result"
    }
   ],
   "source": [
    "image_tensor, label = train_dataset[0]\n",
    "image_tensor.shape, label"
   ]
  },
  {
   "cell_type": "code",
   "execution_count": 18,
   "id": "f593bb6a-b5ee-4556-a15e-26b71b45555b",
   "metadata": {},
   "outputs": [
    {
     "name": "stdout",
     "output_type": "stream",
     "text": [
      "tensor([[0.0039, 0.6039, 0.9922, 0.3529, 0.0000],\n",
      "        [0.0000, 0.5451, 0.9922, 0.7451, 0.0078],\n",
      "        [0.0000, 0.0431, 0.7451, 0.9922, 0.2745],\n",
      "        [0.0000, 0.0000, 0.1373, 0.9451, 0.8824],\n",
      "        [0.0000, 0.0000, 0.0000, 0.3176, 0.9412]])\n",
      "tensor(1.) tensor(0.)\n"
     ]
    }
   ],
   "source": [
    "print(image_tensor[0,10:15,10:15])\n",
    "print(torch.max(image_tensor), torch.min(image_tensor))"
   ]
  },
  {
   "cell_type": "code",
   "execution_count": 19,
   "id": "3697b779-80df-40f0-b16e-f327183b2b2b",
   "metadata": {},
   "outputs": [
    {
     "data": {
      "image/png": "[encoded data removed]",
      "text/plain": [
       "<Figure size 432x288 with 1 Axes>"
      ]
     },
     "metadata": {
      "needs_background": "light"
     },
     "output_type": "display_data"
    }
   ],
   "source": [
    "# Plot the image by passing in the 28x28 matrix\n",
    "plt.imshow(image_tensor[0,10:15,10:15], cmap='gray');"
   ]
  },
  {
   "cell_type": "markdown",
   "id": "fe221f0d-3947-4e94-9d13-539468f85d9e",
   "metadata": {},
   "source": [
    "### Splitting data"
   ]
  },
  {
   "cell_type": "code",
   "execution_count": 20,
   "id": "f3fbe7bb-8c10-4c77-bdbf-2bf9d29f1445",
   "metadata": {},
   "outputs": [],
   "source": [
    "from torch.utils.data import random_split"
   ]
  },
  {
   "cell_type": "code",
   "execution_count": 25,
   "id": "0d88139a-f2ba-4259-97aa-c80ec3151168",
   "metadata": {},
   "outputs": [
    {
     "data": {
      "text/plain": [
       "9000.0"
      ]
     },
     "execution_count": 25,
     "metadata": {},
     "output_type": "execute_result"
    }
   ],
   "source": [
    "len(train_dataset)-(len(train_dataset)*split)"
   ]
  },
  {
   "cell_type": "code",
   "execution_count": 26,
   "id": "d1c9b3e8-27dc-4f52-82ea-b9782114c278",
   "metadata": {},
   "outputs": [
    {
     "data": {
      "text/plain": [
       "(50000, 10000)"
      ]
     },
     "execution_count": 26,
     "metadata": {},
     "output_type": "execute_result"
    }
   ],
   "source": [
    "split = 0.85\n",
    "train_ds, valid_ds = random_split(train_dataset, [50000, 10000])\n",
    "len(train_ds), len(valid_ds)"
   ]
  },
  {
   "cell_type": "markdown",
   "id": "9af67d52-c438-4309-96f8-e7fe2d38254e",
   "metadata": {},
   "source": [
    "### Dataloader"
   ]
  },
  {
   "cell_type": "code",
   "execution_count": 27,
   "id": "e5c4d7d0-18e3-45e6-9114-b87facc68d7c",
   "metadata": {},
   "outputs": [],
   "source": [
    "from torch.utils.data import DataLoader"
   ]
  },
  {
   "cell_type": "code",
   "execution_count": 28,
   "id": "d5d0ef7e-0166-4e5c-98df-40e0a3f9711a",
   "metadata": {},
   "outputs": [],
   "source": [
    "train_dl = DataLoader(train_ds, batch_size = 128, shuffle = True)\n",
    "valid_dl = DataLoader(valid_ds, batch_size = 128)"
   ]
  },
  {
   "cell_type": "code",
   "execution_count": 30,
   "id": "2691599c-406c-4654-a26e-a45278ec7918",
   "metadata": {},
   "outputs": [],
   "source": [
    "# for xb, yb in train_dl:\n",
    "#     print(xb)\n",
    "#     print(yb)\n",
    "#     break"
   ]
  },
  {
   "cell_type": "markdown",
   "id": "eb5ede3a-407a-48f0-af3e-b171a85165e3",
   "metadata": {},
   "source": [
    "### Model Creation"
   ]
  },
  {
   "cell_type": "code",
   "execution_count": 32,
   "id": "feef8e3d-3295-41d7-97a1-d6ffe8c5e9cd",
   "metadata": {},
   "outputs": [],
   "source": [
    "import torch.nn as nn"
   ]
  },
  {
   "cell_type": "code",
   "execution_count": 33,
   "id": "a3fa728b-051d-4548-9efd-fe69a4e8f54b",
   "metadata": {},
   "outputs": [],
   "source": [
    "input_size = 1*28*28\n",
    "num_classes = 10\n",
    "\n",
    "model = nn.Linear(in_features=input_size, out_features=num_classes)"
   ]
  },
  {
   "cell_type": "code",
   "execution_count": 34,
   "id": "2d21f44a-eec1-4ff7-b47c-523653ad4f6d",
   "metadata": {},
   "outputs": [
    {
     "data": {
      "text/plain": [
       "OrderedDict([('weight',\n",
       "              tensor([[-0.0116,  0.0019, -0.0348,  ...,  0.0166,  0.0330, -0.0103],\n",
       "                      [-0.0081, -0.0286, -0.0311,  ..., -0.0021,  0.0269,  0.0262],\n",
       "                      [ 0.0188, -0.0058,  0.0325,  ..., -0.0191, -0.0318, -0.0240],\n",
       "                      ...,\n",
       "                      [ 0.0230,  0.0219,  0.0336,  ...,  0.0149, -0.0018, -0.0292],\n",
       "                      [ 0.0142,  0.0225,  0.0060,  ...,  0.0342, -0.0331, -0.0097],\n",
       "                      [-0.0029,  0.0199,  0.0060,  ...,  0.0179, -0.0207,  0.0067]])),\n",
       "             ('bias',\n",
       "              tensor([-0.0150, -0.0208, -0.0129,  0.0345, -0.0225, -0.0067, -0.0272,  0.0215,\n",
       "                       0.0346,  0.0293]))])"
      ]
     },
     "execution_count": 34,
     "metadata": {},
     "output_type": "execute_result"
    }
   ],
   "source": [
    "model.state_dict()"
   ]
  },
  {
   "cell_type": "code",
   "execution_count": 36,
   "id": "bb860898-17cd-4a92-b7f0-9997f941f6d1",
   "metadata": {},
   "outputs": [
    {
     "data": {
      "text/plain": [
       "(torch.Size([10, 784]), torch.Size([10]))"
      ]
     },
     "execution_count": 36,
     "metadata": {},
     "output_type": "execute_result"
    }
   ],
   "source": [
    "model.weight.shape, model.bias.shape"
   ]
  },
  {
   "cell_type": "code",
   "execution_count": 140,
   "id": "6e32551d-0570-4973-8b2f-381de8c62fa3",
   "metadata": {},
   "outputs": [
    {
     "name": "stdout",
     "output_type": "stream",
     "text": [
      "torch.Size([128, 1, 28, 28])\n",
      "torch.int64\n"
     ]
    }
   ],
   "source": [
    "for image, label in train_dl:\n",
    "    print(image.shape)\n",
    "    print(label.dtype)\n",
    "    break"
   ]
  },
  {
   "cell_type": "code",
   "execution_count": 38,
   "id": "fc1de63c-0d63-4e64-bb9f-5a8d022950b2",
   "metadata": {},
   "outputs": [
    {
     "data": {
      "text/plain": [
       "torch.Size([128, 784])"
      ]
     },
     "execution_count": 38,
     "metadata": {},
     "output_type": "execute_result"
    }
   ],
   "source": [
    "image.reshape(128,784).shape"
   ]
  },
  {
   "cell_type": "markdown",
   "id": "9069fa50-9f79-461a-bc92-2b015718082f",
   "metadata": {},
   "source": [
    "### Custom model"
   ]
  },
  {
   "cell_type": "code",
   "execution_count": 39,
   "id": "90eb4b1d-4fe0-44f3-b900-6703950fc151",
   "metadata": {},
   "outputs": [],
   "source": [
    "class Mnist_model(nn.Module):\n",
    "    def __init__(self):\n",
    "        super().__init__()\n",
    "        self.linear = nn.Linear(input_size, num_classes)\n",
    "        \n",
    "    def forward(self, xb):\n",
    "        xb = xb.reshape(-1, 784)\n",
    "        out = self.linear(xb)\n",
    "        return out"
   ]
  },
  {
   "cell_type": "code",
   "execution_count": 40,
   "id": "df5726fa-38e0-4a9d-9685-f26db08ea2f5",
   "metadata": {},
   "outputs": [],
   "source": [
    "model = Mnist_model()"
   ]
  },
  {
   "cell_type": "code",
   "execution_count": 41,
   "id": "8a30db1b-8097-4cb8-8d1e-c1c4b399366b",
   "metadata": {},
   "outputs": [
    {
     "data": {
      "text/plain": [
       "OrderedDict([('linear.weight',\n",
       "              tensor([[-0.0335, -0.0236,  0.0034,  ...,  0.0177, -0.0074,  0.0213],\n",
       "                      [-0.0288, -0.0139,  0.0244,  ..., -0.0111,  0.0295,  0.0225],\n",
       "                      [ 0.0033,  0.0108,  0.0134,  ..., -0.0055,  0.0047, -0.0016],\n",
       "                      ...,\n",
       "                      [-0.0142, -0.0146,  0.0173,  ...,  0.0141,  0.0215,  0.0143],\n",
       "                      [ 0.0071,  0.0134,  0.0181,  ...,  0.0133,  0.0004,  0.0024],\n",
       "                      [-0.0280,  0.0205,  0.0113,  ...,  0.0191,  0.0272,  0.0169]])),\n",
       "             ('linear.bias',\n",
       "              tensor([ 0.0059,  0.0188, -0.0157, -0.0166,  0.0263,  0.0054, -0.0317, -0.0221,\n",
       "                      -0.0254,  0.0032]))])"
      ]
     },
     "execution_count": 41,
     "metadata": {},
     "output_type": "execute_result"
    }
   ],
   "source": [
    "model.state_dict()"
   ]
  },
  {
   "cell_type": "code",
   "execution_count": 42,
   "id": "54e31990-ee93-447a-8346-0f056814b444",
   "metadata": {},
   "outputs": [
    {
     "data": {
      "text/plain": [
       "Linear(in_features=784, out_features=10, bias=True)"
      ]
     },
     "execution_count": 42,
     "metadata": {},
     "output_type": "execute_result"
    }
   ],
   "source": [
    "model.linear"
   ]
  },
  {
   "cell_type": "code",
   "execution_count": 43,
   "id": "717e4aef-b6c8-49d2-9429-2c1df6afc7d9",
   "metadata": {},
   "outputs": [
    {
     "data": {
      "text/plain": [
       "(torch.Size([10, 784]), torch.Size([10]))"
      ]
     },
     "execution_count": 43,
     "metadata": {},
     "output_type": "execute_result"
    }
   ],
   "source": [
    "model.linear.weight.shape, model.linear.bias.shape"
   ]
  },
  {
   "cell_type": "markdown",
   "id": "549171a9-9a77-4fe7-b33c-bdd639ab7dfd",
   "metadata": {},
   "source": [
    "### example test"
   ]
  },
  {
   "cell_type": "code",
   "execution_count": 65,
   "id": "c3307f1c-9fb0-48b2-9a7b-de8589fb6bb3",
   "metadata": {},
   "outputs": [
    {
     "name": "stdout",
     "output_type": "stream",
     "text": [
      "torch.Size([128, 1, 28, 28])\n",
      "torch.Size([128, 10])\n"
     ]
    }
   ],
   "source": [
    "for images, labels in train_dl:\n",
    "    print(images.shape)\n",
    "    out = model(images)\n",
    "    print(out.shape)\n",
    "    break"
   ]
  },
  {
   "cell_type": "code",
   "execution_count": 66,
   "id": "6c665e95-9593-4d9a-ae79-c8fce9a4e1b9",
   "metadata": {},
   "outputs": [],
   "source": [
    "import torch.nn.functional as F"
   ]
  },
  {
   "cell_type": "code",
   "execution_count": 67,
   "id": "04e3f554-bfbe-4901-8816-7679995bd899",
   "metadata": {},
   "outputs": [
    {
     "data": {
      "text/plain": [
       "(tensor([[0.1234, 0.0873, 0.0583,  ..., 0.1100, 0.1322, 0.1325],\n",
       "         [0.1429, 0.0879, 0.0648,  ..., 0.1155, 0.1272, 0.1261],\n",
       "         [0.1069, 0.0911, 0.0932,  ..., 0.1083, 0.0972, 0.1208],\n",
       "         ...,\n",
       "         [0.1005, 0.1002, 0.0700,  ..., 0.0919, 0.1292, 0.1362],\n",
       "         [0.1225, 0.1061, 0.0922,  ..., 0.0966, 0.0907, 0.1165],\n",
       "         [0.1108, 0.1072, 0.0723,  ..., 0.0892, 0.1119, 0.1242]],\n",
       "        grad_fn=<SoftmaxBackward0>),\n",
       " torch.Size([128, 10]))"
      ]
     },
     "execution_count": 67,
     "metadata": {},
     "output_type": "execute_result"
    }
   ],
   "source": [
    "### output logits\n",
    "logits = F.softmax(out, dim=1)\n",
    "logits, logits.shape"
   ]
  },
  {
   "cell_type": "code",
   "execution_count": 68,
   "id": "0bf9a052-24e9-4a87-a18e-aeaf8e1d05ca",
   "metadata": {},
   "outputs": [
    {
     "name": "stdout",
     "output_type": "stream",
     "text": [
      "sample logits:  tensor([0.1234, 0.0873, 0.0583, 0.1242, 0.0836, 0.0651, 0.0834, 0.1100, 0.1322,\n",
      "        0.1325])\n",
      "sum 1.0\n"
     ]
    }
   ],
   "source": [
    "print('sample logits: ', logits[0].data)\n",
    "print('sum', torch.sum(logits[0]).item())"
   ]
  },
  {
   "cell_type": "markdown",
   "id": "b7cafd77-9161-4574-86e3-03ba6dd3414e",
   "metadata": {},
   "source": [
    "`torch.max` returns each row's largest element and the corresponding index."
   ]
  },
  {
   "cell_type": "code",
   "execution_count": 70,
   "id": "b1a41056-b66d-4717-b5dc-5ff4079a6940",
   "metadata": {},
   "outputs": [
    {
     "name": "stdout",
     "output_type": "stream",
     "text": [
      "tensor([9, 0, 9, 9, 3, 6, 3, 3, 0, 9, 3, 7, 9, 7, 9, 3, 2, 6, 3, 9, 0, 3, 3, 3,\n",
      "        9, 9, 3, 3, 9, 3, 3, 0, 3, 9, 9, 9, 3, 3, 4, 9, 0, 7, 6, 3, 9, 3, 9, 9,\n",
      "        7, 9, 8, 7, 4, 9, 9, 0, 3, 9, 0, 9, 3, 9, 8, 9, 6, 0, 3, 9, 3, 9, 9, 3,\n",
      "        3, 3, 9, 9, 9, 9, 9, 9, 9, 3, 0, 9, 0, 7, 3, 3, 4, 9, 9, 9, 3, 0, 8, 7,\n",
      "        9, 9, 9, 0, 8, 0, 3, 0, 9, 6, 3, 8, 1, 3, 3, 9, 0, 6, 0, 9, 3, 9, 6, 9,\n",
      "        9, 9, 3, 3, 9, 9, 0, 9])\n",
      "tensor([0.1325, 0.1429, 0.1208, 0.1470, 0.1347, 0.1143, 0.1461, 0.1198, 0.1254,\n",
      "        0.1527, 0.1337, 0.1362, 0.1256, 0.1286, 0.1236, 0.1437, 0.1497, 0.1266,\n",
      "        0.1292, 0.1337, 0.1227, 0.1530, 0.1613, 0.1529, 0.1505, 0.1266, 0.1338,\n",
      "        0.1276, 0.1222, 0.1362, 0.1248, 0.1386, 0.1350, 0.1349, 0.1386, 0.1188,\n",
      "        0.1351, 0.1287, 0.1279, 0.1191, 0.1335, 0.1266, 0.1303, 0.1444, 0.1376,\n",
      "        0.1419, 0.1427, 0.1352, 0.1259, 0.1299, 0.1333, 0.1285, 0.1137, 0.1214,\n",
      "        0.1296, 0.1260, 0.1429, 0.1239, 0.1198, 0.1419, 0.1242, 0.1160, 0.1330,\n",
      "        0.1402, 0.1387, 0.1207, 0.1328, 0.1640, 0.1478, 0.1136, 0.1276, 0.1210,\n",
      "        0.1264, 0.1474, 0.1381, 0.1437, 0.1359, 0.1323, 0.1329, 0.1308, 0.1333,\n",
      "        0.1622, 0.1405, 0.1316, 0.1385, 0.1120, 0.1257, 0.1244, 0.1205, 0.1369,\n",
      "        0.1404, 0.1559, 0.1133, 0.1220, 0.1597, 0.1253, 0.1470, 0.1242, 0.1499,\n",
      "        0.1195, 0.1301, 0.1488, 0.1376, 0.1188, 0.1241, 0.1270, 0.1435, 0.1228,\n",
      "        0.1106, 0.1513, 0.1301, 0.1393, 0.1393, 0.1284, 0.1174, 0.1172, 0.1247,\n",
      "        0.1405, 0.1192, 0.1307, 0.1236, 0.1281, 0.1419, 0.1186, 0.1418, 0.1362,\n",
      "        0.1225, 0.1242], grad_fn=<MaxBackward0>)\n",
      "tensor([0.1234, 0.0873, 0.0583, 0.1242, 0.0836, 0.0651, 0.0834, 0.1100, 0.1322,\n",
      "        0.1325], grad_fn=<SelectBackward0>)\n"
     ]
    }
   ],
   "source": [
    "max_probs, preds = torch.max(logits, dim=1)\n",
    "print(preds)\n",
    "print(max_probs)\n",
    "print(logits[0])"
   ]
  },
  {
   "cell_type": "code",
   "execution_count": 71,
   "id": "73f9584e-cb3b-4a4b-95b4-814ec6fdea0d",
   "metadata": {},
   "outputs": [
    {
     "data": {
      "text/plain": [
       "tensor([9, 0, 9, 9, 3, 6, 3, 3, 0, 9, 3, 7, 9, 7, 9, 3, 2, 6, 3, 9, 0, 3, 3, 3,\n",
       "        9, 9, 3, 3, 9, 3, 3, 0, 3, 9, 9, 9, 3, 3, 4, 9, 0, 7, 6, 3, 9, 3, 9, 9,\n",
       "        7, 9, 8, 7, 4, 9, 9, 0, 3, 9, 0, 9, 3, 9, 8, 9, 6, 0, 3, 9, 3, 9, 9, 3,\n",
       "        3, 3, 9, 9, 9, 9, 9, 9, 9, 3, 0, 9, 0, 7, 3, 3, 4, 9, 9, 9, 3, 0, 8, 7,\n",
       "        9, 9, 9, 0, 8, 0, 3, 0, 9, 6, 3, 8, 1, 3, 3, 9, 0, 6, 0, 9, 3, 9, 6, 9,\n",
       "        9, 9, 3, 3, 9, 9, 0, 9])"
      ]
     },
     "execution_count": 71,
     "metadata": {},
     "output_type": "execute_result"
    }
   ],
   "source": [
    "### Output shape should be [10]\n",
    "preds"
   ]
  },
  {
   "cell_type": "code",
   "execution_count": 72,
   "id": "166aba01-f3be-4783-bc5f-ecc5b59c4c05",
   "metadata": {},
   "outputs": [
    {
     "data": {
      "text/plain": [
       "tensor([5, 3, 1, 0, 4, 4, 5, 7, 5, 6, 5, 5, 6, 7, 7, 9, 0, 3, 4, 2, 1, 3, 6, 0,\n",
       "        9, 4, 6, 9, 1, 7, 8, 2, 5, 3, 5, 5, 4, 7, 6, 5, 9, 1, 4, 0, 2, 0, 6, 9,\n",
       "        0, 8, 1, 3, 6, 5, 6, 4, 3, 9, 5, 0, 1, 6, 9, 0, 5, 4, 3, 2, 2, 1, 4, 1,\n",
       "        3, 0, 7, 6, 7, 6, 0, 9, 3, 0, 7, 3, 5, 1, 8, 4, 6, 0, 7, 0, 1, 5, 3, 2,\n",
       "        9, 0, 9, 6, 9, 4, 6, 4, 9, 0, 5, 7, 1, 2, 8, 3, 8, 0, 1, 4, 7, 0, 5, 4,\n",
       "        2, 2, 2, 1, 7, 5, 6, 6])"
      ]
     },
     "execution_count": 72,
     "metadata": {},
     "output_type": "execute_result"
    }
   ],
   "source": [
    "labels"
   ]
  },
  {
   "cell_type": "code",
   "execution_count": 89,
   "id": "f061d227-ae6b-43b6-8234-d789046d9d4b",
   "metadata": {},
   "outputs": [],
   "source": [
    "def accuracy(outputs, labels):\n",
    "    _, preds = torch.max(outputs, dim=1)\n",
    "    return torch.tensor(torch.sum(preds == labels).item() / len(preds))"
   ]
  },
  {
   "cell_type": "code",
   "execution_count": 90,
   "id": "b6f01aba-f46c-4052-9ce4-93393457fb37",
   "metadata": {},
   "outputs": [
    {
     "data": {
      "text/plain": [
       "tensor(0.1016)"
      ]
     },
     "execution_count": 90,
     "metadata": {},
     "output_type": "execute_result"
    }
   ],
   "source": [
    "accuracy(logits, labels)"
   ]
  },
  {
   "cell_type": "code",
   "execution_count": 98,
   "id": "4f6aea8a-e822-43c1-adfe-80e006c0d24f",
   "metadata": {},
   "outputs": [],
   "source": [
    "# loss_fn = nn.CrossEntropyLoss()\n",
    "loss_fn = F.cross_entropy"
   ]
  },
  {
   "cell_type": "code",
   "execution_count": 99,
   "id": "1d4bedbc-d558-4472-95a6-33643d786ff6",
   "metadata": {},
   "outputs": [
    {
     "data": {
      "text/plain": [
       "tensor(2.3014, grad_fn=<NllLossBackward0>)"
      ]
     },
     "execution_count": 99,
     "metadata": {},
     "output_type": "execute_result"
    }
   ],
   "source": [
    "loss = loss_fn(logits, labels)\n",
    "loss"
   ]
  },
  {
   "cell_type": "markdown",
   "id": "1dd9ebd6-55f9-4a9f-a129-97f59f0fa599",
   "metadata": {},
   "source": [
    "### Custom Function and Final custom Model"
   ]
  },
  {
   "cell_type": "code",
   "execution_count": 112,
   "id": "f6ea2c8c-c987-4d6b-a408-f864dcaf44f9",
   "metadata": {},
   "outputs": [],
   "source": [
    "def fit(epochs, lr, model, train_dl, valid_dl, opt_func = torch.optim.SGD):\n",
    "    optimizer = opt_func(model.parameters(), lr=lr)\n",
    "    history = []\n",
    "    \n",
    "    for epoch in range(epochs):\n",
    "        for batch in train_dl:\n",
    "            model.train()\n",
    "            loss = model.training_step(batch)\n",
    "            loss.backward()\n",
    "            optimizer.step()\n",
    "            optimizer.zero_grad()\n",
    "            \n",
    "        model.eval()\n",
    "        with torch.inference_mode():\n",
    "            result = evaluate(model, valid_dl)\n",
    "            model.epoch_end(epoch, result)\n",
    "            history.append(result)\n",
    "    return history"
   ]
  },
  {
   "cell_type": "code",
   "execution_count": 113,
   "id": "af9054e2-8eb6-4f38-a5ac-035d99ef68b2",
   "metadata": {},
   "outputs": [],
   "source": [
    "def evaluate(model, valid_dl):\n",
    "    valid_pred = [model.validation_step(batch) for batch in valid_dl]\n",
    "    return model.validation_epoch_end(valid_pred)"
   ]
  },
  {
   "cell_type": "code",
   "execution_count": 118,
   "id": "f0df7070-4dbb-4460-a9ca-b45cb06c37b2",
   "metadata": {},
   "outputs": [],
   "source": [
    "class Mnist_model(nn.Module):\n",
    "    def __init__(self):\n",
    "        super().__init__()\n",
    "        self.linear = nn.Linear(input_size, num_classes)\n",
    "        \n",
    "    def forward(self, xb):\n",
    "        xb = xb.reshape(-1, 784)\n",
    "        out = self.linear(xb)\n",
    "        return out\n",
    "    \n",
    "    def training_step(self, batch):\n",
    "        images, labels = batch\n",
    "        logits = self(images)\n",
    "        loss = F.cross_entropy(logits, labels)\n",
    "        acc = accuracy(logits, labels)\n",
    "        return loss\n",
    "    \n",
    "    def validation_step(self,batch):\n",
    "        images, labels = batch\n",
    "        logits = self(images)\n",
    "        loss = F.cross_entropy(logits,labels)\n",
    "        acc = accuracy(logits, labels)\n",
    "        return {'val_loss':loss, 'val_accuracy': acc}\n",
    "    \n",
    "    def validation_epoch_end(self, valid_pred):\n",
    "        batch_losses = [x['val_loss'] for x in valid_pred]\n",
    "        valid_loss = torch.stack(batch_losses).mean()\n",
    "        batch_accs = [x['val_accuracy'] for x in valid_pred]\n",
    "        valid_acc = torch.stack(batch_accs).mean()\n",
    "        return {'valid_loss': valid_loss.item(), 'valid_accuracy': valid_acc}\n",
    "    \n",
    "    def epoch_end(self, epoch, result):\n",
    "        print(\"Epoch [{}] | valid_loss: {:.4f} | valid_acc: {:.4f}\".format(epoch, result['valid_loss'], result['valid_accuracy']))"
   ]
  },
  {
   "cell_type": "code",
   "execution_count": 132,
   "id": "3ad4ccaf-4c54-4b12-8e72-ffd8b7fd5997",
   "metadata": {},
   "outputs": [],
   "source": [
    "model = Mnist_model()"
   ]
  },
  {
   "cell_type": "code",
   "execution_count": 133,
   "id": "ada0d269-04ab-447b-8917-daae49122a4b",
   "metadata": {},
   "outputs": [
    {
     "data": {
      "text/plain": [
       "{'valid_loss': 2.362468957901001, 'valid_accuracy': tensor(0.0395)}"
      ]
     },
     "execution_count": 133,
     "metadata": {},
     "output_type": "execute_result"
    }
   ],
   "source": [
    "result0 = evaluate(model, valid_dl)\n",
    "result0"
   ]
  },
  {
   "cell_type": "code",
   "execution_count": 134,
   "id": "663d5b8c-7c05-4576-9d93-2e541efeaf48",
   "metadata": {},
   "outputs": [
    {
     "name": "stdout",
     "output_type": "stream",
     "text": [
      "Epoch [0] | valid_loss: 1.9767 | valid_acc: 0.6276\n",
      "Epoch [1] | valid_loss: 1.6962 | valid_acc: 0.7453\n",
      "Epoch [2] | valid_loss: 1.4877 | valid_acc: 0.7798\n",
      "Epoch [3] | valid_loss: 1.3309 | valid_acc: 0.7937\n",
      "Epoch [4] | valid_loss: 1.2109 | valid_acc: 0.8047\n"
     ]
    }
   ],
   "source": [
    "history1 = fit(5, 0.001, model, train_dl, valid_dl)"
   ]
  },
  {
   "cell_type": "code",
   "execution_count": 135,
   "id": "f6ae02b2-6f84-4bd3-9f55-a809b3bd139c",
   "metadata": {},
   "outputs": [
    {
     "name": "stdout",
     "output_type": "stream",
     "text": [
      "Epoch [0] | valid_loss: 1.1169 | valid_acc: 0.8133\n",
      "Epoch [1] | valid_loss: 1.0417 | valid_acc: 0.8203\n",
      "Epoch [2] | valid_loss: 0.9804 | valid_acc: 0.8259\n",
      "Epoch [3] | valid_loss: 0.9296 | valid_acc: 0.8307\n",
      "Epoch [4] | valid_loss: 0.8866 | valid_acc: 0.8349\n",
      "Epoch [5] | valid_loss: 0.8500 | valid_acc: 0.8387\n",
      "Epoch [6] | valid_loss: 0.8183 | valid_acc: 0.8413\n",
      "Epoch [7] | valid_loss: 0.7905 | valid_acc: 0.8448\n",
      "Epoch [8] | valid_loss: 0.7661 | valid_acc: 0.8470\n",
      "Epoch [9] | valid_loss: 0.7443 | valid_acc: 0.8496\n",
      "Epoch [10] | valid_loss: 0.7248 | valid_acc: 0.8509\n",
      "Epoch [11] | valid_loss: 0.7073 | valid_acc: 0.8521\n",
      "Epoch [12] | valid_loss: 0.6914 | valid_acc: 0.8539\n",
      "Epoch [13] | valid_loss: 0.6768 | valid_acc: 0.8555\n",
      "Epoch [14] | valid_loss: 0.6635 | valid_acc: 0.8572\n"
     ]
    }
   ],
   "source": [
    "history2 = fit(15, 0.001, model, train_dl, valid_dl)"
   ]
  },
  {
   "cell_type": "code",
   "execution_count": 136,
   "id": "5bba2fe3-90f0-4bc1-905f-d00fa41505b2",
   "metadata": {},
   "outputs": [
    {
     "data": {
      "image/png": "[encoded data removed]",
      "text/plain": [
       "<Figure size 432x288 with 1 Axes>"
      ]
     },
     "metadata": {
      "needs_background": "light"
     },
     "output_type": "display_data"
    }
   ],
   "source": [
    "history = [result0] + history1 + history2\n",
    "accuracies = [result['valid_accuracy'] for result in history]\n",
    "plt.plot(accuracies, '-x')\n",
    "plt.xlabel('epoch')\n",
    "plt.ylabel('accuracy')\n",
    "plt.title('Accuracy vs. No. of epochs');"
   ]
  },
  {
   "cell_type": "code",
   "execution_count": 139,
   "id": "92f529b3-6a41-4464-9205-b8d7db6f2c9a",
   "metadata": {},
   "outputs": [
    {
     "data": {
      "text/plain": [
       "{'valid_loss': 0.6392986178398132, 'valid_accuracy': tensor(0.8626)}"
      ]
     },
     "execution_count": 139,
     "metadata": {},
     "output_type": "execute_result"
    }
   ],
   "source": [
    "test_loader = DataLoader(test_dataset, batch_size=256)\n",
    "result = evaluate(model, test_loader)\n",
    "result"
   ]
  },
  {
   "cell_type": "code",
   "execution_count": null,
   "id": "c0503c12-0c10-403d-9946-16cdc9927863",
   "metadata": {},
   "outputs": [],
   "source": []
  },
  {
   "cell_type": "code",
   "execution_count": null,
   "id": "2fe3dbc4-e06c-4854-b5cc-66790809b2ca",
   "metadata": {},
   "outputs": [],
   "source": []
  },
  {
   "cell_type": "code",
   "execution_count": null,
   "id": "aab9dafb-9415-4136-94aa-22e512c1b4a6",
   "metadata": {},
   "outputs": [],
   "source": []
  },
  {
   "cell_type": "code",
   "execution_count": null,
   "id": "f7e5e923-6b9d-4715-930c-d8fde3a500d6",
   "metadata": {},
   "outputs": [],
   "source": []
  },
  {
   "cell_type": "code",
   "execution_count": null,
   "id": "d6598092-4f0c-4fd5-bca3-511a499252d1",
   "metadata": {},
   "outputs": [],
   "source": []
  },
  {
   "cell_type": "code",
   "execution_count": null,
   "id": "40232062-0a91-40b5-bbe4-c26926d38b0d",
   "metadata": {},
   "outputs": [],
   "source": []
  },
  {
   "cell_type": "code",
   "execution_count": null,
   "id": "4e0e49cf-1f58-4077-a6da-85f82752f449",
   "metadata": {},
   "outputs": [],
   "source": []
  },
  {
   "cell_type": "code",
   "execution_count": null,
   "id": "ec5c77c0-944b-4d42-b03e-e2e8fcfe1b3a",
   "metadata": {},
   "outputs": [],
   "source": []
  },
  {
   "cell_type": "code",
   "execution_count": null,
   "id": "4990c482-dbb4-4885-8017-2b7bedb015c2",
   "metadata": {},
   "outputs": [],
   "source": []
  },
  {
   "cell_type": "code",
   "execution_count": null,
   "id": "80a17ba3-beb5-493d-9c4f-e82af9038bad",
   "metadata": {},
   "outputs": [],
   "source": []
  },
  {
   "cell_type": "code",
   "execution_count": null,
   "id": "02498242-60dd-4e47-afb7-854d2e019e47",
   "metadata": {},
   "outputs": [],
   "source": []
  },
  {
   "cell_type": "code",
   "execution_count": null,
   "id": "4bc98239-c0f9-4c8e-8d03-ba20fd394369",
   "metadata": {},
   "outputs": [],
   "source": []
  }
 ],
 "metadata": {
  "kernelspec": {
   "display_name": "Python 3 (ipykernel)",
   "language": "python",
   "name": "python3"
  },
  "language_info": {
   "codemirror_mode": {
    "name": "ipython",
    "version": 3
   },
   "file_extension": ".py",
   "mimetype": "text/x-python",
   "name": "python",
   "nbconvert_exporter": "python",
   "pygments_lexer": "ipython3",
   "version": "3.8.13"
  }
 },
 "nbformat": 4,
 "nbformat_minor": 5
}
